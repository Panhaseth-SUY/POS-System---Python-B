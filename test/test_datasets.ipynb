{
 "cells": [
  {
   "cell_type": "code",
   "execution_count": 6,
   "metadata": {},
   "outputs": [
    {
     "name": "stdout",
     "output_type": "stream",
     "text": [
      "--> Database connection established successfully!\n"
     ]
    }
   ],
   "source": [
    "import sys\n",
    "import os\n",
    "# Add the project root directory to sys.path\n",
    "sys.path.insert(0, os.path.abspath(os.path.join(os.getcwd(), '../')))\n",
    "\n",
    "from pos.database import Database\n",
    "import pandas as pd\n",
    "from pprint import pprint\n",
    "from collections import defaultdict\n",
    "from datetime import datetime\n",
    "\n",
    "db = Database()\n"
   ]
  },
  {
   "cell_type": "code",
   "execution_count": 7,
   "metadata": {},
   "outputs": [],
   "source": [
    "data = db.fetch_all_sales()\n",
    "\n",
    "# Get daily sales\n",
    "daily_sales = defaultdict(float)\n",
    "for sale in data:\n",
    "    date = sale[\"date\"].strftime('%Y-%m-%d')\n",
    "    daily_sales[date] += float(sale[\"total_amount\"])\n",
    "\n",
    "daily_sale_data = [{\"date\": datetime.strptime(date, '%Y-%m-%d'), \"total_amount\": amount} for date, amount in daily_sales.items()]\n"
   ]
  },
  {
   "cell_type": "code",
   "execution_count": 2,
   "metadata": {},
   "outputs": [
    {
     "name": "stdout",
     "output_type": "stream",
     "text": [
      "Invoice generated: /Users/home/Desktop/pos_system/test/invoice.pdf\n"
     ]
    }
   ],
   "source": [
    "from reportlab.platypus import SimpleDocTemplate, Paragraph, Spacer, Table, TableStyle\n",
    "from reportlab.lib.pagesizes import landscape\n",
    "from reportlab.lib.styles import getSampleStyleSheet\n",
    "from reportlab.lib import colors\n",
    "import os\n",
    "\n",
    "\n",
    "class InvoiceGenerator:\n",
    "    def __init__(self, invoice_id, sale_data, sale_items):\n",
    "        self.invoice_id = invoice_id\n",
    "        self.sale_data = sale_data\n",
    "        self.sale_items = sale_items\n",
    "\n",
    "    def generate_invoice(self, filename=\"invoice.pdf\"):\n",
    "        # Page size for a small thermal paper\n",
    "        page_width, page_height = (58, 100)  # Thermal printer paper size in points\n",
    "        doc = SimpleDocTemplate(\n",
    "            filename,\n",
    "            pagesize=(page_width, page_height),\n",
    "            rightMargin=2,\n",
    "            leftMargin=2,\n",
    "            topMargin=2,\n",
    "            bottomMargin=2,\n",
    "        )\n",
    "        elements = []\n",
    "\n",
    "        # Styles for the document\n",
    "        styles = getSampleStyleSheet()\n",
    "        title_style = styles['Title']\n",
    "        normal_style = styles['Normal']\n",
    "\n",
    "        # Adjust font sizes for small paper\n",
    "        title_style.fontSize = 6\n",
    "        normal_style.fontSize = 4\n",
    "\n",
    "        # Add header\n",
    "        elements.append(Paragraph(\"TOKATA - Invoice\", title_style))\n",
    "        elements.append(Spacer(1, 4))\n",
    "        elements.append(Paragraph(f\"Invoice Number: {self.invoice_id}\", normal_style))\n",
    "        elements.append(Paragraph(f\"Date: {self.sale_data['date']}\", normal_style))\n",
    "        elements.append(Spacer(1, 4))\n",
    "\n",
    "        # Add table for items\n",
    "        table_data = [[\"Item\", \"Qty\", \"Price\", \"Total\"]]\n",
    "        total = 0\n",
    "        for item in self.sale_items:\n",
    "            item_total = item['quantity'] * item['unit_price']\n",
    "            table_data.append([\n",
    "                Paragraph(item['name'], normal_style),  # Use Paragraph for wrapping long text\n",
    "                item['quantity'],\n",
    "                f\"${item['unit_price']:.2f}\",\n",
    "                f\"${item_total:.2f}\",\n",
    "            ])\n",
    "            total += item_total\n",
    "\n",
    "        # Add totals row\n",
    "        table_data.append([\"\", \"\", \"Total\", f\"${total:.2f}\"])\n",
    "\n",
    "        # Create table\n",
    "        table = Table(\n",
    "            table_data,\n",
    "            colWidths=[20, 8, 15, 15],  # Adjust column widths for better fit\n",
    "            hAlign='LEFT',\n",
    "        )\n",
    "        table.setStyle(TableStyle([\n",
    "            ('BACKGROUND', (0, 0), (-1, 0), colors.grey),\n",
    "            ('TEXTCOLOR', (0, 0), (-1, 0), colors.white),\n",
    "            ('ALIGN', (0, 0), (-1, -1), 'CENTER'),\n",
    "            ('FONTNAME', (0, 0), (-1, -1), 'Helvetica'),\n",
    "            ('FONTSIZE', (0, 0), (-1, -1), 3.5),  # Smaller font size for table\n",
    "            ('BOTTOMPADDING', (0, 0), (-1, -1), 1),\n",
    "            ('GRID', (0, 0), (-1, -1), 0.1, colors.black),\n",
    "        ]))\n",
    "        elements.append(table)\n",
    "        elements.append(Spacer(1, 6))\n",
    "\n",
    "        # Add footer\n",
    "        elements.append(Paragraph(\"Thank you for your purchase!\", normal_style))\n",
    "        elements.append(Spacer(1, 2))\n",
    "        elements.append(Paragraph(\"© TOKATA. All rights reserved.\", normal_style))\n",
    "\n",
    "        # Build PDF\n",
    "        doc.build(elements)\n",
    "        print(f\"Invoice generated: {os.path.abspath(filename)}\")\n",
    "\n",
    "\n",
    "# Example usage\n",
    "if __name__ == \"__main__\":\n",
    "    # Dummy data\n",
    "    invoice_id = \"INV-001\"\n",
    "    sale_data = {\n",
    "        \"date\": \"2024-11-24\",\n",
    "    }\n",
    "    sale_items = [\n",
    "        {\"name\": \"Item A\", \"quantity\": 2, \"unit_price\": 5.50},\n",
    "        {\"name\": \"Item B\", \"quantity\": 1, \"unit_price\": 12.00},\n",
    "        {\"name\": \"Item C\", \"quantity\": 3, \"unit_price\": 3.75},\n",
    "    ]\n",
    "\n",
    "    # Generate invoice\n",
    "    generator = InvoiceGenerator(invoice_id, sale_data, sale_items)\n",
    "    generator.generate_invoice(\"invoice.pdf\")\n"
   ]
  }
 ],
 "metadata": {
  "kernelspec": {
   "display_name": "Python 3",
   "language": "python",
   "name": "python3"
  },
  "language_info": {
   "codemirror_mode": {
    "name": "ipython",
    "version": 3
   },
   "file_extension": ".py",
   "mimetype": "text/x-python",
   "name": "python",
   "nbconvert_exporter": "python",
   "pygments_lexer": "ipython3",
   "version": "3.12.1"
  }
 },
 "nbformat": 4,
 "nbformat_minor": 2
}
